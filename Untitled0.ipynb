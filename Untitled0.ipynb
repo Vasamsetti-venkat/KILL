{
  "nbformat": 4,
  "nbformat_minor": 0,
  "metadata": {
    "colab": {
      "provenance": [],
      "authorship_tag": "ABX9TyP4xw7z8YmxBwfVk/k/l6ad",
      "include_colab_link": true
    },
    "kernelspec": {
      "name": "python3",
      "display_name": "Python 3"
    },
    "language_info": {
      "name": "python"
    }
  },
  "cells": [
    {
      "cell_type": "markdown",
      "metadata": {
        "id": "view-in-github",
        "colab_type": "text"
      },
      "source": [
        "<a href=\"https://colab.research.google.com/github/Vasamsetti-venkat/KILL/blob/main/Untitled0.ipynb\" target=\"_parent\"><img src=\"https://colab.research.google.com/assets/colab-badge.svg\" alt=\"Open In Colab\"/></a>"
      ]
    },
    {
      "cell_type": "code",
      "execution_count": 15,
      "metadata": {
        "colab": {
          "base_uri": "https://localhost:8080/"
        },
        "id": "1kFIVBZKgEcc",
        "outputId": "6921b871-d084-40e4-8c34-792a500d738c"
      },
      "outputs": [
        {
          "output_type": "stream",
          "name": "stdout",
          "text": [
            "Enter a number:20\n",
            "sum of 1st N natural Numbers 210\n"
          ]
        }
      ],
      "source": [
        "N = int(input(\"Enter a number:\"))\n",
        "Sum=0\n",
        "for i in range(1,N+1):\n",
        "    Sum+=i\n",
        "print(\"sum of 1st N natural Numbers\",Sum)"
      ]
    }
  ]
}