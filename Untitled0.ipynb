{
  "nbformat": 4,
  "nbformat_minor": 0,
  "metadata": {
    "colab": {
      "provenance": [],
      "authorship_tag": "ABX9TyOiLA8w5ibuep0SxauZW7sc",
      "include_colab_link": true
    },
    "kernelspec": {
      "name": "python3",
      "display_name": "Python 3"
    },
    "language_info": {
      "name": "python"
    }
  },
  "cells": [
    {
      "cell_type": "markdown",
      "metadata": {
        "id": "view-in-github",
        "colab_type": "text"
      },
      "source": [
        "<a href=\"https://colab.research.google.com/github/Vasamsetti-venkat/KILL/blob/main/Untitled0.ipynb\" target=\"_parent\"><img src=\"https://colab.research.google.com/assets/colab-badge.svg\" alt=\"Open In Colab\"/></a>"
      ]
    },
    {
      "cell_type": "code",
      "execution_count": 15,
      "metadata": {
        "colab": {
          "base_uri": "https://localhost:8080/"
        },
        "id": "1kFIVBZKgEcc",
        "outputId": "6921b871-d084-40e4-8c34-792a500d738c"
      },
      "outputs": [
        {
          "output_type": "stream",
          "name": "stdout",
          "text": [
            "Enter a number:20\n",
            "sum of 1st N natural Numbers 210\n"
          ]
        }
      ],
      "source": [
        "N = int(input(\"Enter a number:\"))\n",
        "Sum=0\n",
        "for i in range(1,N+1):\n",
        "    Sum+=i\n",
        "print(\"sum of 1st N natural Numbers\",Sum)"
      ]
    },
    {
      "cell_type": "code",
      "source": [
        "def separate_even_odd(numbers):\n",
        "    evens = []\n",
        "    odds = []\n",
        "    for num in numbers:\n",
        "        if num % 2 == 0:\n",
        "            evens.append(num)\n",
        "        else:\n",
        "            odds.append(num)\n",
        "    return evens, odds\n",
        "\n",
        "# Example usage\n",
        "numbers = list(range(1, 100))  # List of numbers from 1 to 20\n",
        "evens, odds = separate_even_odd(numbers)\n",
        "\n",
        "print(\"Even Numbers:\", evens)\n",
        "print(\"Odd Numbers:\", odds)"
      ],
      "metadata": {
        "colab": {
          "base_uri": "https://localhost:8080/"
        },
        "id": "K4aauDE6hvBE",
        "outputId": "3ecefbd6-75b2-4685-9195-255a6609e66f"
      },
      "execution_count": 19,
      "outputs": [
        {
          "output_type": "stream",
          "name": "stdout",
          "text": [
            "Even Numbers: [2, 4, 6, 8, 10, 12, 14, 16, 18, 20, 22, 24, 26, 28, 30, 32, 34, 36, 38, 40, 42, 44, 46, 48, 50, 52, 54, 56, 58, 60, 62, 64, 66, 68, 70, 72, 74, 76, 78, 80, 82, 84, 86, 88, 90, 92, 94, 96, 98]\n",
            "Odd Numbers: [1, 3, 5, 7, 9, 11, 13, 15, 17, 19, 21, 23, 25, 27, 29, 31, 33, 35, 37, 39, 41, 43, 45, 47, 49, 51, 53, 55, 57, 59, 61, 63, 65, 67, 69, 71, 73, 75, 77, 79, 81, 83, 85, 87, 89, 91, 93, 95, 97, 99]\n"
          ]
        }
      ]
    }
  ]
}